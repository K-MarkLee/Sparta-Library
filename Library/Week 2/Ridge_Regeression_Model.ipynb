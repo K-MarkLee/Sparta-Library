{
 "cells": [
  {
   "cell_type": "code",
   "execution_count": 1,
   "metadata": {},
   "outputs": [],
   "source": [
    "import numpy as np\n",
    "import pandas as pd\n",
    "from sklearn.model_selection import train_test_split\n",
    "\n",
    "#리지 회귀 모델 불러오기\n",
    "from sklearn.linear_model import Ridge\n",
    "from sklearn.metrics import root_mean_squared_error, r2_score"
   ]
  },
  {
   "cell_type": "code",
   "execution_count": 2,
   "metadata": {},
   "outputs": [],
   "source": [
    "#데이터 생성\n",
    "X = np.array([[1, 1], [2, 2], [3, 3], [4, 4], [5, 5], [6, 6]])\n",
    "y = np.array([1, 2, 3, 4, 5, 6])"
   ]
  },
  {
   "cell_type": "code",
   "execution_count": 3,
   "metadata": {},
   "outputs": [],
   "source": [
    "#데이터 분할\n",
    "X_train, X_test, y_train, y_test = train_test_split(X, y, test_size=0.2, random_state=42)"
   ]
  },
  {
   "cell_type": "code",
   "execution_count": null,
   "metadata": {},
   "outputs": [],
   "source": [
    "#리지 회귀 모델 불러오기 alpha = 1.o은 회귀 계수를 1로 제한을 둠 \n",
    "model = Ridge(alpha=1.0)\n",
    "model.fit(X_train, y_train)"
   ]
  },
  {
   "cell_type": "code",
   "execution_count": 5,
   "metadata": {},
   "outputs": [],
   "source": [
    "y_pred = model.predict(X_test)"
   ]
  },
  {
   "cell_type": "code",
   "execution_count": 6,
   "metadata": {},
   "outputs": [],
   "source": [
    "mse = root_mean_squared_error(y_test,y_pred)"
   ]
  },
  {
   "cell_type": "code",
   "execution_count": null,
   "metadata": {},
   "outputs": [],
   "source": [
    "# mse는 0에 가까워야함\n",
    "mse"
   ]
  },
  {
   "cell_type": "code",
   "execution_count": 8,
   "metadata": {},
   "outputs": [],
   "source": [
    "r2 = r2_score(y_test,y_pred)"
   ]
  },
  {
   "cell_type": "code",
   "execution_count": null,
   "metadata": {},
   "outputs": [],
   "source": [
    "# r2는 1에 가까워야함\n",
    "r2"
   ]
  },
  {
   "cell_type": "code",
   "execution_count": null,
   "metadata": {},
   "outputs": [],
   "source": [
    "#회귀 계수에 맞는 alpha값 찾기\n",
    "\n",
    "#그리드 서치 cv를 불러오기.\n",
    "from sklearn.model_selection import GridSearchCV\n",
    "\n",
    "# 파라미터 그리드 설정\n",
    "# alpha값들의 후보들을 나열하고 순차적으로 최적의 alpha단계를 찾게함\n",
    "param_grid = {'alpha': [0.1, 1.0, 10.0, 100.0]}\n",
    "\n",
    "# 리지 회귀 모델 초기화\n",
    "model = Ridge()\n",
    "\n",
    "# 그리드 서치 설정\n",
    "# gridsearchcv로 alpha값들을 교차검증을(cv = 4) 4번 한다. \n",
    "# 이렇게 최적의 alpha값을찾을 수 있다.\n",
    "model_search = GridSearchCV(model, param_grid, cv=4)\n",
    "\n",
    "# 최적의 모델 학습\n",
    "model_search.fit(X_train, y_train)\n",
    "\n",
    "print(\"Best alpha:\", model_search.best_params_)\n"
   ]
  },
  {
   "cell_type": "code",
   "execution_count": null,
   "metadata": {},
   "outputs": [],
   "source": []
  }
 ],
 "metadata": {
  "kernelspec": {
   "display_name": "machine_learning",
   "language": "python",
   "name": "python3"
  },
  "language_info": {
   "codemirror_mode": {
    "name": "ipython",
    "version": 3
   },
   "file_extension": ".py",
   "mimetype": "text/x-python",
   "name": "python",
   "nbconvert_exporter": "python",
   "pygments_lexer": "ipython3",
   "version": "3.12.7"
  }
 },
 "nbformat": 4,
 "nbformat_minor": 2
}
