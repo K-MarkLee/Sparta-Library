{
 "cells": [
  {
   "cell_type": "code",
   "execution_count": 20,
   "metadata": {},
   "outputs": [],
   "source": [
    "import numpy as np\n",
    "import pandas as pd\n",
    "from sklearn.model_selection import train_test_split\n",
    "\n",
    "#다항식 특성을 만드는 함수를 불러온다.\n",
    "from sklearn.preprocessing import PolynomialFeatures\n",
    "\n",
    "from sklearn.linear_model import LinearRegression\n",
    "from sklearn.metrics import root_mean_squared_error, r2_score\n"
   ]
  },
  {
   "cell_type": "code",
   "execution_count": null,
   "metadata": {},
   "outputs": [],
   "source": [
    "# 값이 하나인 데이터셋을 생성\n",
    "# X = np.array([[1], [2], [3], [4], [5], [6]])\n",
    "# y = np.array([1, 4, 9, 16, 25, 36])\n",
    "\n",
    "#1차원에 값이 2개인 데이터셋을 생성\n",
    "#이런식으로 데이터를 생성해도 된다.\n",
    "study = np.array([[i, i+1] for i in range(1, 100)])\n",
    "goal = np.array([[((i)+(i+1))**2] for i in range(1,100)])\n",
    "\n",
    "\n",
    "#다항의 차수를 설정한다. (degree = 2)\n",
    "poly = PolynomialFeatures(degree=2)\n",
    "study_poly = poly.fit_transform(study)\n",
    "\n",
    "#훈련 데이터와 테스트 데이터로 분할 시킨다.\n",
    "study_train, study_test, goal_train, goal_test = train_test_split(study_poly, goal, test_size=0.2, random_state=42)\n",
    "\n",
    "#선형 회귀 모델을 불러와 다항의 값을 학습 시킨다.\n",
    "model = LinearRegression()\n",
    "model.fit(study_train,goal_train)\n",
    "\n",
    "goal_pred = model.predict(study_test)\n",
    "\n",
    "goal_pred\n",
    "study_test"
   ]
  },
  {
   "cell_type": "code",
   "execution_count": 37,
   "metadata": {},
   "outputs": [],
   "source": [
    "mse = root_mean_squared_error(goal_test, goal_pred)"
   ]
  },
  {
   "cell_type": "code",
   "execution_count": null,
   "metadata": {},
   "outputs": [],
   "source": [
    "mse"
   ]
  },
  {
   "cell_type": "code",
   "execution_count": 41,
   "metadata": {},
   "outputs": [],
   "source": [
    "r2 = r2_score(goal_test, goal_pred)"
   ]
  },
  {
   "cell_type": "code",
   "execution_count": null,
   "metadata": {},
   "outputs": [],
   "source": [
    "r2"
   ]
  }
 ],
 "metadata": {
  "kernelspec": {
   "display_name": "machine_learning",
   "language": "python",
   "name": "python3"
  },
  "language_info": {
   "codemirror_mode": {
    "name": "ipython",
    "version": 3
   },
   "file_extension": ".py",
   "mimetype": "text/x-python",
   "name": "python",
   "nbconvert_exporter": "python",
   "pygments_lexer": "ipython3",
   "version": "3.12.7"
  }
 },
 "nbformat": 4,
 "nbformat_minor": 2
}
