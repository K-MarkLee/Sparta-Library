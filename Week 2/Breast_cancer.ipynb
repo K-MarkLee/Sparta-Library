{
 "cells": [
  {
   "cell_type": "code",
   "execution_count": 18,
   "metadata": {},
   "outputs": [],
   "source": [
    "import numpy as np\n",
    "import pandas as pd\n",
    "\n",
    "#사이킷 런에서 유방암데이터셋을 불러오기\n",
    "from sklearn.datasets import load_breast_cancer\n",
    "\n",
    "#데이터 분할 기능 불러오기 (샘플링)\n",
    "from sklearn.model_selection import train_test_split\n",
    "\n",
    "#스케일링 기능 불러오기. 데이터의 평균을 0이라고 하고 분산을 1로 맞춤\n",
    "#각각의 데이터값을 표준을 0으로 가정하고 최대 분산을 1로 설정하여서 가중치 없이 값을 학습하고자 하는것이 스케일러의 역활이다.\n",
    "from sklearn.preprocessing import StandardScaler\n",
    "\n",
    "\n",
    "from sklearn.linear_model import LogisticRegression\n",
    "from sklearn.metrics import accuracy_score, classification_report, confusion_matrix\n",
    "from sklearn.metrics import root_mean_squared_error, r2_score"
   ]
  },
  {
   "cell_type": "code",
   "execution_count": 38,
   "metadata": {},
   "outputs": [],
   "source": [
    "# data 변수에 유방암 데이터를 할당한다.\n",
    "data = load_breast_cancer()\n",
    "\n",
    "# data.data는 암 을 예측 하기 위한 데이터 즉 독립변수\n",
    "X = data.data\n",
    "\n",
    "# data.target은 암 여부를 가지고 있는 데이터 즉 종속변수이다.\n",
    "y = data.target"
   ]
  },
  {
   "cell_type": "code",
   "execution_count": 3,
   "metadata": {},
   "outputs": [],
   "source": [
    "# 데이터의 샘플링\n",
    "X_train, X_test, y_train, y_test = train_test_split(X, y, test_size=0.2, random_state=42)"
   ]
  },
  {
   "cell_type": "code",
   "execution_count": 4,
   "metadata": {},
   "outputs": [],
   "source": [
    "# 스케일러를 불러서 데이터의 스케일링을 진행한다.\n",
    "scaler = StandardScaler()\n",
    "X_train = scaler.fit_transform(X_train)\n",
    "X_test = scaler.transform(X_test)"
   ]
  },
  {
   "cell_type": "code",
   "execution_count": null,
   "metadata": {},
   "outputs": [],
   "source": [
    "# 스케일링 된 데이터를 학습시킨다.\n",
    "model = LogisticRegression()\n",
    "model.fit(X_train, y_train)"
   ]
  },
  {
   "cell_type": "code",
   "execution_count": 14,
   "metadata": {},
   "outputs": [],
   "source": [
    "y_pred = model.predict(X_test)"
   ]
  },
  {
   "cell_type": "code",
   "execution_count": null,
   "metadata": {},
   "outputs": [],
   "source": [
    "y_pred"
   ]
  },
  {
   "cell_type": "code",
   "execution_count": null,
   "metadata": {},
   "outputs": [],
   "source": [
    "# 예측값이 정확할 확률을 나타낸다\n",
    "accuracy_score(y_test, y_pred)"
   ]
  },
  {
   "cell_type": "code",
   "execution_count": null,
   "metadata": {},
   "outputs": [],
   "source": [
    "# 분류 보고서를 작성한다. 정확도, 정밀도, 재현율등을 출력한다.\n",
    "print(classification_report(y_test, y_pred))"
   ]
  },
  {
   "cell_type": "code",
   "execution_count": null,
   "metadata": {},
   "outputs": [],
   "source": [
    "# 실제값과 예측 값의 혼동 행렬을 반환한다.\n",
    "\n",
    "#   0  1\n",
    "# 0 tn fp\n",
    "# 1 fn tp\n",
    "\n",
    "confusion_matrix(y_test, y_pred)"
   ]
  }
 ],
 "metadata": {
  "kernelspec": {
   "display_name": "machine_learning",
   "language": "python",
   "name": "python3"
  },
  "language_info": {
   "codemirror_mode": {
    "name": "ipython",
    "version": 3
   },
   "file_extension": ".py",
   "mimetype": "text/x-python",
   "name": "python",
   "nbconvert_exporter": "python",
   "pygments_lexer": "ipython3",
   "version": "3.12.7"
  }
 },
 "nbformat": 4,
 "nbformat_minor": 2
}
