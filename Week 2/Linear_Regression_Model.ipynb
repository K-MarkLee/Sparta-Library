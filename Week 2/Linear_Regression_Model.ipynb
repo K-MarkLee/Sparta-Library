{
 "cells": [
  {
   "cell_type": "code",
   "execution_count": 1,
   "metadata": {},
   "outputs": [],
   "source": [
    "import numpy as np\n",
    "import pandas as pd\n",
    "\n",
    "#사이킷런 라이브러리에서, 데이터를 학습 세트와 테스트 세트로 나누는 (샘플링) 함수를 불러온다.\n",
    "from sklearn.model_selection import train_test_split\n",
    "\n",
    "#사이킷런 라이브러리에서, 선형회귀 모델을 불러온다.\n",
    "from sklearn.linear_model import LinearRegression\n",
    "\n",
    "#사이킷런 라이브버리에서 MSE와 r2를 불러온다.\n",
    "from sklearn.metrics import root_mean_squared_error, r2_score"
   ]
  },
  {
   "cell_type": "code",
   "execution_count": 2,
   "metadata": {},
   "outputs": [],
   "source": [
    "#데이터셋을 준비한다. 이때, X는 독립 변수, y는 종속 변수 이다.\n",
    "\n",
    "#단순 선형 회귀 모델의 데이터셋셋\n",
    "#X = np.array([[1], [2], [3], [4], [5], [6]])\n",
    "#y = np.array([11, 22, 33, 44, 55, 66])\n",
    "\n",
    "\n",
    "#다중 선형 회귀 모델의 데이터셋\n",
    "X = np.array([[1, 1], [2, 2], [3, 3], [4, 4], [5, 5], [6,6]])\n",
    "y = np.array([1, 2, 3, 4, 5, 6])"
   ]
  },
  {
   "cell_type": "code",
   "execution_count": 3,
   "metadata": {},
   "outputs": [],
   "source": [
    "#train_test_split 을 사용하여 x와 y의 데이터를 0.2의 배율만큼 학습세트와 테스트세트로 나눈다.\n",
    "#이때 random_state = 42 는 랜덤하게 세트로 나누는 데이터의 위치를 저장하여 다음에도 42를 부르면 같은 세트로 나뉘게 한다.\n",
    "X_train, X_test, y_train, y_test = train_test_split(X, y, test_size=0.2, random_state=42)"
   ]
  },
  {
   "cell_type": "code",
   "execution_count": 4,
   "metadata": {},
   "outputs": [],
   "source": [
    "#변수 모델로 선형 회귀 모델로 지정하여 부른다.\n",
    "model = LinearRegression()"
   ]
  },
  {
   "cell_type": "code",
   "execution_count": null,
   "metadata": {},
   "outputs": [],
   "source": [
    "#fit을 사용하여 학습데이터세트를 모델에 학습을 시킨다.\n",
    "model.fit(X_train,y_train)"
   ]
  },
  {
   "cell_type": "code",
   "execution_count": 6,
   "metadata": {},
   "outputs": [],
   "source": [
    "#학습이 된 모델에 predict를 넣어 값을 예측하게 한다. \n",
    "#테스트 데이터 세트를 사용하여 값이 올바르게 나오나 확인 한다.\n",
    "y_pred = model.predict(X_test)"
   ]
  },
  {
   "cell_type": "code",
   "execution_count": null,
   "metadata": {},
   "outputs": [],
   "source": [
    "X_test\n"
   ]
  },
  {
   "cell_type": "code",
   "execution_count": null,
   "metadata": {},
   "outputs": [],
   "source": [
    "y_pred"
   ]
  },
  {
   "cell_type": "code",
   "execution_count": 9,
   "metadata": {},
   "outputs": [],
   "source": [
    "#테스트 배열 생성\n",
    "a = np.array([[10,10],[11,11],[12,12],[13,15]])"
   ]
  },
  {
   "cell_type": "code",
   "execution_count": 10,
   "metadata": {},
   "outputs": [],
   "source": [
    "#테스트해보기\n",
    "test = model.predict(a)"
   ]
  },
  {
   "cell_type": "code",
   "execution_count": null,
   "metadata": {},
   "outputs": [],
   "source": [
    "test"
   ]
  },
  {
   "cell_type": "code",
   "execution_count": 12,
   "metadata": {},
   "outputs": [],
   "source": [
    "#mse를 불러온다. 이때 테스트세트의 종속 변수와 predict한 값을 매개변수로  mse를 호출한다.\n",
    "mse = root_mean_squared_error(y_test, y_pred)"
   ]
  },
  {
   "cell_type": "code",
   "execution_count": null,
   "metadata": {},
   "outputs": [],
   "source": [
    "mse"
   ]
  },
  {
   "cell_type": "code",
   "execution_count": 14,
   "metadata": {},
   "outputs": [],
   "source": [
    "#mse와 같이 테스트 세트의 종속 변수와 preict 한 값을 매개변수로 r2를 호출한다.\n",
    "r2 = r2_score(y_test, y_pred)"
   ]
  },
  {
   "cell_type": "code",
   "execution_count": null,
   "metadata": {},
   "outputs": [],
   "source": [
    "r2"
   ]
  }
 ],
 "metadata": {
  "kernelspec": {
   "display_name": "machine_learning",
   "language": "python",
   "name": "python3"
  },
  "language_info": {
   "codemirror_mode": {
    "name": "ipython",
    "version": 3
   },
   "file_extension": ".py",
   "mimetype": "text/x-python",
   "name": "python",
   "nbconvert_exporter": "python",
   "pygments_lexer": "ipython3",
   "version": "3.12.7"
  }
 },
 "nbformat": 4,
 "nbformat_minor": 2
}
